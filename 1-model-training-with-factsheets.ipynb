{
 "cells": [
  {
   "cell_type": "code",
   "execution_count": 1,
   "metadata": {},
   "outputs": [],
   "source": [
    "# @hidden_cell\n",
    "# The project token is an authorization token that is used to access project resources like data sources, connections, and used by platform APIs.\n",
    "from project_lib import Project\n",
    "project = Project(project_id='da16da04-d6ab-4b6b-9978-7e6264b906c0', project_access_token='p-aaf6eaffadbe6ad499074f2fa0845bb8cac7ab99')\n"
   ]
  },
  {
   "cell_type": "markdown",
   "metadata": {
    "id": "d031254092654cf8aca02ab627bee766"
   },
   "source": [
    "# Mortgage Approval Prediction\n",
    "\n",
    "### Contents\n",
    "- [Set up Project Token and API Key](#tokens)\n",
    "- [Import Libraries](#libraries)\n",
    "- [Setup AI Factsheets](#factsheet)\n",
    "- [Load training data](#data)\n",
    "- [Specify User Inputs](#userinputs)\n",
    "- [Build Data Pipelines](#transformers)\n",
    "- [Build Machine Learning Models](#ml)\n",
    "- [View Model Results](#results)\n",
    "- [Save the model](#save)"
   ]
  },
  {
   "cell_type": "markdown",
   "metadata": {},
   "source": [
    "### Set up Project Token and API Key  <a name=\"tokens\"></a>\n",
    "Before executing this notebook, you need to insert a project token and an IBM Cloud API key:<br>\n",
    "\n",
    "#### Provide the project access token\n",
    "1. When you imported the project from the Gallery, the first cell of this notebook should contain the project access token. \n",
    "\n",
    "2. If this notebook does not contain a first cell with a project access token, then to generate the token, click **More > Insert project token** on the menu bar.<br>\n",
    "\n",
    "![ws-project.mov](https://media.giphy.com/media/jSVxX2spqwWF9unYrs/giphy.gif)\n",
    "\n",
    "\n",
    "#### Provide your IBM Cloud API key\n",
    "1. Generate an IBM Cloud API key on the [API Keys page in the IBM Cloud console](https://cloud.ibm.com/iam/apikeys).\n",
    "2. Click **Create an IBM Cloud API key**. Provide a key name, and click **Create**, then copy the created key and paste it below. As a best practice, download the API key in addition to copying the key. \n"
   ]
  },
  {
   "cell_type": "code",
   "execution_count": 2,
   "metadata": {},
   "outputs": [],
   "source": [
    "ibmcloud_api_key = \"igPuyengMsZqigjqx4t3_GCXblMHNZOMmhqrbb5hoXQf\""
   ]
  },
  {
   "cell_type": "markdown",
   "metadata": {},
   "source": [
    "You can then step through the notebook execution cell by cell, by selecting Shift-Enter. Or you can execute the entire notebook by selecting **Cell > Run All** from the menu.<br>"
   ]
  },
  {
   "cell_type": "markdown",
   "metadata": {},
   "source": [
    "### Import Libraries  <a name=\"libraries\"></a>"
   ]
  },
  {
   "cell_type": "markdown",
   "metadata": {
    "collapsed": true,
    "id": "f65453b8-c04f-42a7-b424-0450c426f72f"
   },
   "source": [
    "This cell imports the python libraries that you will use throughout the notebook. \n",
    "`matplotlib` and `seaborn` libraries are used to visualize the data. The code uses the `sklearn` library to build transformers and machine learning models. "
   ]
  },
  {
   "cell_type": "code",
   "execution_count": 3,
   "metadata": {
    "id": "e3ad0c1cdeef455bbe0da13ca643af60"
   },
   "outputs": [
    {
     "name": "stdout",
     "output_type": "stream",
     "text": [
      "Requirement already satisfied: ibm-cloud-sdk-core in /opt/conda/envs/Python-3.9/lib/python3.9/site-packages (3.10.1)\n",
      "Requirement already satisfied: PyJWT<3.0.0,>=2.0.1 in /opt/conda/envs/Python-3.9/lib/python3.9/site-packages (from ibm-cloud-sdk-core) (2.4.0)\n",
      "Requirement already satisfied: python-dateutil<3.0.0,>=2.5.3 in /opt/conda/envs/Python-3.9/lib/python3.9/site-packages (from ibm-cloud-sdk-core) (2.8.2)\n",
      "Requirement already satisfied: requests<3.0,>=2.20 in /opt/conda/envs/Python-3.9/lib/python3.9/site-packages (from ibm-cloud-sdk-core) (2.26.0)\n",
      "Requirement already satisfied: six>=1.5 in /opt/conda/envs/Python-3.9/lib/python3.9/site-packages (from python-dateutil<3.0.0,>=2.5.3->ibm-cloud-sdk-core) (1.15.0)\n",
      "Requirement already satisfied: certifi>=2017.4.17 in /opt/conda/envs/Python-3.9/lib/python3.9/site-packages (from requests<3.0,>=2.20->ibm-cloud-sdk-core) (2022.6.15)\n",
      "Requirement already satisfied: charset-normalizer~=2.0.0 in /opt/conda/envs/Python-3.9/lib/python3.9/site-packages (from requests<3.0,>=2.20->ibm-cloud-sdk-core) (2.0.4)\n",
      "Requirement already satisfied: urllib3<1.27,>=1.21.1 in /opt/conda/envs/Python-3.9/lib/python3.9/site-packages (from requests<3.0,>=2.20->ibm-cloud-sdk-core) (1.26.7)\n",
      "Requirement already satisfied: idna<4,>=2.5 in /opt/conda/envs/Python-3.9/lib/python3.9/site-packages (from requests<3.0,>=2.20->ibm-cloud-sdk-core) (3.3)\n"
     ]
    }
   ],
   "source": [
    "\n",
    "import pandas as pd\n",
    "pd.set_option('display.max_columns', None)\n",
    "\n",
    "import matplotlib.pyplot as plt\n",
    "import matplotlib.patches as mpatches\n",
    "import numpy as np\n",
    "import os\n",
    "\n",
    "import seaborn as sns\n",
    "sns.set(style='darkgrid',palette=\"deep\")\n",
    "\n",
    "import ibm_db, ibm_db_dbi as dbi\n",
    "\n",
    "\n",
    "from sklearn.model_selection import train_test_split\n",
    "\n",
    "from sklearn.compose import ColumnTransformer\n",
    "from sklearn.pipeline import Pipeline\n",
    "from sklearn.impute import SimpleImputer\n",
    "from sklearn.preprocessing import StandardScaler, OneHotEncoder\n",
    "\n",
    "from sklearn.ensemble import RandomForestClassifier, GradientBoostingClassifier\n",
    "\n",
    "from sklearn import metrics\n",
    "\n",
    "!pip install ibm-cloud-sdk-core"
   ]
  },
  {
   "cell_type": "markdown",
   "metadata": {},
   "source": [
    "### Set up AI Factsheets  <a name=\"factsheet\"></a>"
   ]
  },
  {
   "cell_type": "markdown",
   "metadata": {},
   "source": [
    "[AI Factsheets](https://aifs360.mybluemix.net/introduction) will be used to track the lifecycle of the model built using sci-kit library. This cell imports the AI Factsheets client and creates an experiment to log the results to AI Factsheets."
   ]
  },
  {
   "cell_type": "code",
   "execution_count": 4,
   "metadata": {},
   "outputs": [
    {
     "name": "stdout",
     "output_type": "stream",
     "text": [
      "2022/07/15 05:23:39 INFO : Successfully set mortgage_approval_prediction as current experiment\n",
      "2022/07/15 05:23:40 INFO : Autolog enabled Successfully\n"
     ]
    }
   ],
   "source": [
    "\n",
    "try:\n",
    "    from ibm_aigov_facts_client import AIGovFactsClient\n",
    "except:\n",
    "    !pip install -U ibm-aigov-facts-client\n",
    "    from ibm_aigov_facts_client import AIGovFactsClient\n",
    "        \n",
    "        \n",
    "PROJECT_UID= os.environ['PROJECT_ID'] #this assumes you are running in Studio. When running externally please add the project id here.\n",
    "CPD_URL=os.environ['RUNTIME_ENV_APSX_URL'][len('https://api.'):] #the variable starts with https://api.\" and you only need the rest 'dataplatform.dev.cloud.ibm.com'\n",
    "CONTAINER_ID=PROJECT_UID\n",
    "CONTAINER_TYPE='project'\n",
    "EXPERIMENT_NAME='mortgage_approval_prediction'\n",
    "# CPD4D API key. Navigate to hamburger menu -> Acess (IAM) -> API Keys to create one for you (or have your account admin do it)\n",
    "\n",
    "# The project token is an authorization token that is used to access project resources like data sources, connections, and used by platform APIs.\n",
    "PROJECT_ACCESS_TOKEN=project.project_context.accessToken.replace('Bearer ','') #You can create or lookup such a token from the settings tab of this project\n",
    "\n",
    "\n",
    "\n",
    "facts_client = AIGovFactsClient(api_key=ibmcloud_api_key,experiment_name=EXPERIMENT_NAME,container_type=CONTAINER_TYPE,container_id=CONTAINER_ID,set_as_current_experiment=True)"
   ]
  },
  {
   "cell_type": "markdown",
   "metadata": {},
   "source": [
    "### Connect to a Database "
   ]
  },
  {
   "cell_type": "code",
   "execution_count": 5,
   "metadata": {},
   "outputs": [],
   "source": [
    "DATABASE_CREDENTIALS=project.get_connection(name=\"Data Fabric Trial - Db2 Warehouse\")"
   ]
  },
  {
   "cell_type": "code",
   "execution_count": 6,
   "metadata": {},
   "outputs": [],
   "source": [
    "db2_warehouse_datafabric_trial_dsn = 'DATABASE={};HOSTNAME={};PORT={};PROTOCOL=TCPIP;UID={uid};PWD={pwd};SECURITY=SSL'.format(DATABASE_CREDENTIALS['database'],DATABASE_CREDENTIALS['host'],DATABASE_CREDENTIALS['port'],uid=DATABASE_CREDENTIALS['username'],pwd=DATABASE_CREDENTIALS['password'])\n",
    "\n",
    "db2_warehouse_datafabric_trial_connection = dbi.connect(db2_warehouse_datafabric_trial_dsn)\n",
    "   "
   ]
  },
  {
   "cell_type": "markdown",
   "metadata": {},
   "source": [
    "#### SQL Query to read the tables\n",
    "The SQL Query below returns the raw data required to train the model."
   ]
  },
  {
   "cell_type": "code",
   "execution_count": 7,
   "metadata": {},
   "outputs": [],
   "source": [
    "sql_query='select * from AI_MORTGAGE.MORTGAGE_APPROVAL_VIEW'\n"
   ]
  },
  {
   "cell_type": "markdown",
   "metadata": {
    "id": "5986f537c99543d8a55c4e0d9d23f589"
   },
   "source": [
    "### Load  training data   <a name=\"data\"></a>\n",
    "\n",
    "Load the received data into a Pandas dataframe."
   ]
  },
  {
   "cell_type": "code",
   "execution_count": 8,
   "metadata": {},
   "outputs": [
    {
     "data": {
      "text/html": [
       "<div>\n",
       "<style scoped>\n",
       "    .dataframe tbody tr th:only-of-type {\n",
       "        vertical-align: middle;\n",
       "    }\n",
       "\n",
       "    .dataframe tbody tr th {\n",
       "        vertical-align: top;\n",
       "    }\n",
       "\n",
       "    .dataframe thead th {\n",
       "        text-align: right;\n",
       "    }\n",
       "</style>\n",
       "<table border=\"1\" class=\"dataframe\">\n",
       "  <thead>\n",
       "    <tr style=\"text-align: right;\">\n",
       "      <th></th>\n",
       "      <th>ID</th>\n",
       "      <th>NAME</th>\n",
       "      <th>STREET_ADDRESS</th>\n",
       "      <th>CITY</th>\n",
       "      <th>STATE</th>\n",
       "      <th>STATE_CODE</th>\n",
       "      <th>ZIP_CODE</th>\n",
       "      <th>EMAIL_ADDRESS</th>\n",
       "      <th>PHONE_NUMBER</th>\n",
       "      <th>GENDER</th>\n",
       "      <th>SOCIAL_SECURITY_NUMBER</th>\n",
       "      <th>EDUCATION</th>\n",
       "      <th>EMPLOYMENT_STATUS</th>\n",
       "      <th>MARITAL_STATUS</th>\n",
       "      <th>INCOME</th>\n",
       "      <th>APPLIEDONLINE</th>\n",
       "      <th>RESIDENCE</th>\n",
       "      <th>YRS_AT_CURRENT_ADDRESS</th>\n",
       "      <th>YRS_WITH_CURRENT_EMPLOYER</th>\n",
       "      <th>NUMBER_OF_CARDS</th>\n",
       "      <th>CREDITCARD_DEBT</th>\n",
       "      <th>LOANS</th>\n",
       "      <th>LOAN_AMOUNT</th>\n",
       "      <th>CREDIT_SCORE</th>\n",
       "      <th>COMMERCIAL_CLIENT</th>\n",
       "      <th>COMM_FRAUD_INV</th>\n",
       "      <th>PROPERTY_VALUE</th>\n",
       "      <th>AREA_AVG_PRICE</th>\n",
       "      <th>MORTGAGE_APPROVAL</th>\n",
       "    </tr>\n",
       "  </thead>\n",
       "  <tbody>\n",
       "    <tr>\n",
       "      <th>0</th>\n",
       "      <td>100381</td>\n",
       "      <td>Rebe Sicely</td>\n",
       "      <td>1410 East Roseville Parkway</td>\n",
       "      <td>Roseville</td>\n",
       "      <td>California</td>\n",
       "      <td>CA</td>\n",
       "      <td>95661</td>\n",
       "      <td>rsicely79@dell.com</td>\n",
       "      <td>480-949-5817</td>\n",
       "      <td>Female</td>\n",
       "      <td>842-77-3741</td>\n",
       "      <td>High School or Below</td>\n",
       "      <td>Employed</td>\n",
       "      <td>Married</td>\n",
       "      <td>53115.0</td>\n",
       "      <td>NO</td>\n",
       "      <td>Owner Occupier</td>\n",
       "      <td>12</td>\n",
       "      <td>1</td>\n",
       "      <td>2</td>\n",
       "      <td>674.0</td>\n",
       "      <td>0</td>\n",
       "      <td>10455.0</td>\n",
       "      <td>539</td>\n",
       "      <td>TRUE</td>\n",
       "      <td>FALSE</td>\n",
       "      <td>538588.0</td>\n",
       "      <td>528267.0</td>\n",
       "      <td>1</td>\n",
       "    </tr>\n",
       "    <tr>\n",
       "      <th>1</th>\n",
       "      <td>100603</td>\n",
       "      <td>Eunice Frampton</td>\n",
       "      <td>1235 East Higgins Road</td>\n",
       "      <td>Schaumburg</td>\n",
       "      <td>Illinois</td>\n",
       "      <td>IL</td>\n",
       "      <td>60173</td>\n",
       "      <td>eframptonoo@vimeo.com</td>\n",
       "      <td>619-949-9285</td>\n",
       "      <td>Female</td>\n",
       "      <td>861-80-1036</td>\n",
       "      <td>Bachelor</td>\n",
       "      <td>Medical Leave</td>\n",
       "      <td>Married</td>\n",
       "      <td>52173.0</td>\n",
       "      <td>NO</td>\n",
       "      <td>Public Housing</td>\n",
       "      <td>4</td>\n",
       "      <td>22</td>\n",
       "      <td>2</td>\n",
       "      <td>689.0</td>\n",
       "      <td>0</td>\n",
       "      <td>9720.0</td>\n",
       "      <td>831</td>\n",
       "      <td>TRUE</td>\n",
       "      <td>FALSE</td>\n",
       "      <td>779408.0</td>\n",
       "      <td>NaN</td>\n",
       "      <td>0</td>\n",
       "    </tr>\n",
       "    <tr>\n",
       "      <th>2</th>\n",
       "      <td>100345</td>\n",
       "      <td>Solomon Stair</td>\n",
       "      <td>1935 S. Campbell</td>\n",
       "      <td>Springfield</td>\n",
       "      <td>Missouri</td>\n",
       "      <td>MO</td>\n",
       "      <td>65898</td>\n",
       "      <td>sstair8f@yellowbook.com</td>\n",
       "      <td>830-745-2002</td>\n",
       "      <td>Male</td>\n",
       "      <td>313-48-7750</td>\n",
       "      <td>College</td>\n",
       "      <td>Employed</td>\n",
       "      <td>Married</td>\n",
       "      <td>53552.0</td>\n",
       "      <td>NO</td>\n",
       "      <td>Owner Occupier</td>\n",
       "      <td>19</td>\n",
       "      <td>22</td>\n",
       "      <td>2</td>\n",
       "      <td>1255.0</td>\n",
       "      <td>1</td>\n",
       "      <td>4430.0</td>\n",
       "      <td>833</td>\n",
       "      <td>TRUE</td>\n",
       "      <td>FALSE</td>\n",
       "      <td>467893.0</td>\n",
       "      <td>NaN</td>\n",
       "      <td>1</td>\n",
       "    </tr>\n",
       "    <tr>\n",
       "      <th>3</th>\n",
       "      <td>100496</td>\n",
       "      <td>Marya Kyngdon</td>\n",
       "      <td>1817 E. Southeast Loop 323</td>\n",
       "      <td>Tyler</td>\n",
       "      <td>Texas</td>\n",
       "      <td>TX</td>\n",
       "      <td>75701</td>\n",
       "      <td>mkyngdon3o@vimeo.com</td>\n",
       "      <td>209-726-1165</td>\n",
       "      <td>Female</td>\n",
       "      <td>800-92-2916</td>\n",
       "      <td>High School or Below</td>\n",
       "      <td>Employed</td>\n",
       "      <td>Married</td>\n",
       "      <td>44449.0</td>\n",
       "      <td>NO</td>\n",
       "      <td>Private Renting</td>\n",
       "      <td>9</td>\n",
       "      <td>16</td>\n",
       "      <td>1</td>\n",
       "      <td>4168.0</td>\n",
       "      <td>0</td>\n",
       "      <td>8450.0</td>\n",
       "      <td>544</td>\n",
       "      <td>TRUE</td>\n",
       "      <td>FALSE</td>\n",
       "      <td>565193.0</td>\n",
       "      <td>NaN</td>\n",
       "      <td>0</td>\n",
       "    </tr>\n",
       "    <tr>\n",
       "      <th>4</th>\n",
       "      <td>101757</td>\n",
       "      <td>Vlad Willimont</td>\n",
       "      <td>189 Boston Post Road West</td>\n",
       "      <td>Marlborough</td>\n",
       "      <td>Massachusetts</td>\n",
       "      <td>MA</td>\n",
       "      <td>1752</td>\n",
       "      <td>vwillimont69@arizona.edu</td>\n",
       "      <td>225-464-4392</td>\n",
       "      <td>Male</td>\n",
       "      <td>840-80-4920</td>\n",
       "      <td>High School or Below</td>\n",
       "      <td>Employed</td>\n",
       "      <td>Divorced</td>\n",
       "      <td>54451.0</td>\n",
       "      <td>NO</td>\n",
       "      <td>Private Renting</td>\n",
       "      <td>14</td>\n",
       "      <td>30</td>\n",
       "      <td>1</td>\n",
       "      <td>3312.0</td>\n",
       "      <td>1</td>\n",
       "      <td>9440.0</td>\n",
       "      <td>840</td>\n",
       "      <td>FALSE</td>\n",
       "      <td>FALSE</td>\n",
       "      <td>510916.0</td>\n",
       "      <td>NaN</td>\n",
       "      <td>1</td>\n",
       "    </tr>\n",
       "  </tbody>\n",
       "</table>\n",
       "</div>"
      ],
      "text/plain": [
       "       ID             NAME               STREET_ADDRESS         CITY  \\\n",
       "0  100381      Rebe Sicely  1410 East Roseville Parkway    Roseville   \n",
       "1  100603  Eunice Frampton       1235 East Higgins Road   Schaumburg   \n",
       "2  100345    Solomon Stair             1935 S. Campbell  Springfield   \n",
       "3  100496    Marya Kyngdon   1817 E. Southeast Loop 323        Tyler   \n",
       "4  101757   Vlad Willimont    189 Boston Post Road West  Marlborough   \n",
       "\n",
       "           STATE STATE_CODE ZIP_CODE             EMAIL_ADDRESS  PHONE_NUMBER  \\\n",
       "0     California         CA    95661        rsicely79@dell.com  480-949-5817   \n",
       "1       Illinois         IL    60173     eframptonoo@vimeo.com  619-949-9285   \n",
       "2       Missouri         MO    65898   sstair8f@yellowbook.com  830-745-2002   \n",
       "3          Texas         TX    75701      mkyngdon3o@vimeo.com  209-726-1165   \n",
       "4  Massachusetts         MA     1752  vwillimont69@arizona.edu  225-464-4392   \n",
       "\n",
       "   GENDER SOCIAL_SECURITY_NUMBER             EDUCATION EMPLOYMENT_STATUS  \\\n",
       "0  Female            842-77-3741  High School or Below          Employed   \n",
       "1  Female            861-80-1036              Bachelor     Medical Leave   \n",
       "2    Male            313-48-7750               College          Employed   \n",
       "3  Female            800-92-2916  High School or Below          Employed   \n",
       "4    Male            840-80-4920  High School or Below          Employed   \n",
       "\n",
       "  MARITAL_STATUS   INCOME APPLIEDONLINE        RESIDENCE  \\\n",
       "0        Married  53115.0            NO   Owner Occupier   \n",
       "1        Married  52173.0            NO   Public Housing   \n",
       "2        Married  53552.0            NO   Owner Occupier   \n",
       "3        Married  44449.0            NO  Private Renting   \n",
       "4       Divorced  54451.0            NO  Private Renting   \n",
       "\n",
       "   YRS_AT_CURRENT_ADDRESS  YRS_WITH_CURRENT_EMPLOYER  NUMBER_OF_CARDS  \\\n",
       "0                      12                          1                2   \n",
       "1                       4                         22                2   \n",
       "2                      19                         22                2   \n",
       "3                       9                         16                1   \n",
       "4                      14                         30                1   \n",
       "\n",
       "   CREDITCARD_DEBT  LOANS  LOAN_AMOUNT  CREDIT_SCORE COMMERCIAL_CLIENT  \\\n",
       "0            674.0      0      10455.0           539              TRUE   \n",
       "1            689.0      0       9720.0           831              TRUE   \n",
       "2           1255.0      1       4430.0           833              TRUE   \n",
       "3           4168.0      0       8450.0           544              TRUE   \n",
       "4           3312.0      1       9440.0           840             FALSE   \n",
       "\n",
       "  COMM_FRAUD_INV  PROPERTY_VALUE  AREA_AVG_PRICE  MORTGAGE_APPROVAL  \n",
       "0          FALSE        538588.0        528267.0                  1  \n",
       "1          FALSE        779408.0             NaN                  0  \n",
       "2          FALSE        467893.0             NaN                  1  \n",
       "3          FALSE        565193.0             NaN                  0  \n",
       "4          FALSE        510916.0             NaN                  1  "
      ]
     },
     "execution_count": 8,
     "metadata": {},
     "output_type": "execute_result"
    }
   ],
   "source": [
    "df_mortgage = pd.read_sql_query(sql_query, con=db2_warehouse_datafabric_trial_connection)\n",
    "\n",
    "df_mortgage.head()"
   ]
  },
  {
   "cell_type": "markdown",
   "metadata": {
    "id": "145a804ba16340618b700991823c855a"
   },
   "source": [
    "### Specify User Inputs <a name=\"userinputs\"></a>\n",
    "\n",
    "These user inputs are defined in the cell below.\n",
    "\n",
    "**target_col :** This is the target column indicating whether a mortgage application is approved or not.<br>\n",
    "**categorical_cols :** A list of all categorical variables that need to be transformed before input into the model. You will use a transformer to impute missing values and create dummy variables.<br>\n",
    "**numerical_cols :** A list of all of the numerical features that you input into the model. Later in the code, you use a transformer to impute any missing values in these columns. Flag like variables, with values of either 1 or 0 are included in this list.<br>\n",
    "**cat_pct :** A threshold that defines the percentage of unique values in a categorical feature that is acceptable for one-hot encoding.<br>\n",
    "**cor_pct :** A threshold that defines the level of correlation, at which point a feature needs to be removed from analysis.<br>\n",
    "\n",
    "\n",
    "If the data scientist is using their own data, they can easily update the variables below to point at their own specific column names.\n",
    "\n",
    "All of these variables are stored in a dictionary which is saved as part of the metadata when deploying the pipeline in the deployment space. you store this dictionary so that the same user inputs can be applied when scoring new data."
   ]
  },
  {
   "cell_type": "code",
   "execution_count": 9,
   "metadata": {
    "id": "d14e30718627465d8a99f1c06caeb4b4"
   },
   "outputs": [],
   "source": [
    "numerical_cols=['INCOME','YRS_AT_CURRENT_ADDRESS','YRS_WITH_CURRENT_EMPLOYER','NUMBER_OF_CARDS','CREDITCARD_DEBT','LOAN_AMOUNT','CREDIT_SCORE','PROPERTY_VALUE','AREA_AVG_PRICE','LOANS']\n",
    "target_col='MORTGAGE_APPROVAL'\n",
    "categorical_cols=['STATE','GENDER','EDUCATION','EMPLOYMENT_STATUS','MARITAL_STATUS','APPLIEDONLINE','RESIDENCE','COMMERCIAL_CLIENT','COMM_FRAUD_INV']\n",
    "\n",
    "\n",
    "cat_pct = 0.04\n",
    "cor_pct = 0.90"
   ]
  },
  {
   "cell_type": "code",
   "execution_count": 10,
   "metadata": {
    "id": "3eccae5d37ce4f9a984388693ba16021"
   },
   "outputs": [],
   "source": [
    "df_prep=df_mortgage[numerical_cols+[target_col]+categorical_cols].copy()"
   ]
  },
  {
   "cell_type": "markdown",
   "metadata": {
    "id": "b323548affc1430a87271c9dc6c1edbe"
   },
   "source": [
    "#### Handle categorical variables\n",
    "Categorical variables with a high number of unique values can significantly impact performance, because they may add too many one-hot encoded features to the dataset. Such categorical variables need to be removed."
   ]
  },
  {
   "cell_type": "code",
   "execution_count": 11,
   "metadata": {
    "id": "42609d3cea9a4bee8c635b2c7c8b314a"
   },
   "outputs": [
    {
     "name": "stdout",
     "output_type": "stream",
     "text": [
      "STATE removed\n"
     ]
    }
   ],
   "source": [
    "for col in categorical_cols:\n",
    "    if df_prep[col].nunique() > (cat_pct*df_prep.shape[0]):\n",
    "        print(col,\"removed\")\n",
    "        categorical_cols.remove(col)\n",
    "        df_prep=df_prep.drop(col,axis=1)"
   ]
  },
  {
   "cell_type": "markdown",
   "metadata": {
    "id": "d0f5481b501943d6acfb0ae36e3d2802"
   },
   "source": [
    "Also remove the columns which have only one single category for all the rows."
   ]
  },
  {
   "cell_type": "code",
   "execution_count": 12,
   "metadata": {
    "id": "8968d79ecc234cee9d7c915852d9aba8"
   },
   "outputs": [],
   "source": [
    "for col in categorical_cols:\n",
    "    if df_prep[col].nunique() ==1:\n",
    "        print(col,\"removed\")\n",
    "        categorical_cols.remove(col)\n",
    "        df_prep=df_prep.drop(col,axis=1)"
   ]
  },
  {
   "cell_type": "markdown",
   "metadata": {
    "id": "877f48bc5e3e459b96e0e329c9285f0f"
   },
   "source": [
    "Training Data"
   ]
  },
  {
   "cell_type": "code",
   "execution_count": 13,
   "metadata": {
    "id": "f344a5c7b9c043c1b402b6c58d6dfb77"
   },
   "outputs": [
    {
     "data": {
      "image/png": "[encoded data removed]",
      "text/plain": [
       "<Figure size 360x360 with 1 Axes>"
      ]
     },
     "metadata": {},
     "output_type": "display_data"
    }
   ],
   "source": [
    "\n",
    "df_temp = df_prep[target_col].value_counts().reset_index()\n",
    "df_temp['perc'] = df_temp[target_col] / df_temp[target_col].sum()\n",
    "\n",
    "target_0 = df_temp[df_temp['index']==0]['perc'].values[0]\n",
    "target_1 = df_temp[df_temp['index']==1]['perc'].values[0]\n",
    "\n",
    "fig1, ax1 = plt.subplots(figsize=(5,5))\n",
    "\n",
    "ax1.bar(target_col, target_0, label=target_0, color='blue')\n",
    "ax1.bar(target_col, target_1, bottom=target_0, color='orange')\n",
    "\n",
    "red_patch = mpatches.Patch(color='orange', label='1')\n",
    "blue_patch = mpatches.Patch(color='blue', label='0')\n",
    "\n",
    "plt.legend(handles=[blue_patch, red_patch], loc='best')\n",
    "\n",
    "plt.title('Target Distribution')\n",
    "\n",
    "for patch in ax1.patches:\n",
    "    percentage = '{:.1f}%'.format(100 * patch.get_height())\n",
    "    x = patch.get_x() + patch.get_width()/2\n",
    "    y = patch.get_y() + patch.get_height()/6\n",
    "    ax1.annotate(percentage, (x, y), ha='center', color='white', weight='bold', fontsize=10)"
   ]
  },
  {
   "cell_type": "markdown",
   "metadata": {
    "id": "d9623b8dee4349839f9eddbeb3c86a8d"
   },
   "source": [
    "#### Correlation\n",
    "You will carry out a correlation analysis on all variables specified in numerical_cols.\n",
    "\n",
    "From the result of the analysis, you can see that there is no significant correlation between the columns. "
   ]
  },
  {
   "cell_type": "code",
   "execution_count": 14,
   "metadata": {
    "id": "1a24004de6ef46069c199b0b8a346313"
   },
   "outputs": [
    {
     "data": {
      "image/png": "[encoded data removed]",
      "text/plain": [
       "<Figure size 720x720 with 2 Axes>"
      ]
     },
     "metadata": {},
     "output_type": "display_data"
    }
   ],
   "source": [
    "# check correlation between numerical features\n",
    "f, ax = plt.subplots(figsize=(10, 10))\n",
    "corr = df_prep[numerical_cols + [target_col]].corr()\n",
    "corr = corr.round(3)\n",
    "temp = sns.heatmap(corr, mask=np.zeros_like(corr, dtype=bool), cmap=sns.diverging_palette(220, 10, as_cmap=True),\n",
    "           square=True, ax=ax,annot=True)"
   ]
  },
  {
   "cell_type": "markdown",
   "metadata": {
    "id": "48eb25fdaf7a43f8bb225bce1c22f8be"
   },
   "source": [
    "#### Handle correlations\n",
    "Correlated data poses the threat of disproportionately reporting the effects of features with relatively similarly. This cell removes highly correlated columns, if any."
   ]
  },
  {
   "cell_type": "code",
   "execution_count": 15,
   "metadata": {
    "id": "872a2121f55b4507bd49a7cf5ac29d6c"
   },
   "outputs": [],
   "source": [
    "corr = corr.abs()\n",
    "upper = corr.where(np.triu(np.ones(corr.shape), k=1).astype(bool))\n",
    "to_drop = [col for col in upper.columns if any(upper[col] >= cor_pct)]\n",
    "\n",
    "df_prep = df_prep.drop(to_drop, axis=1)\n",
    "\n",
    "if(len(to_drop)>0):\n",
    "    numerical_cols.remove(to_drop[0])\n",
    "    print(to_drop,\"Removed because of high correlation\")"
   ]
  },
  {
   "cell_type": "markdown",
   "metadata": {
    "id": "08a2f3163ae846f2857cbebc8c1292ae"
   },
   "source": [
    "### Build Data Pipelines  <a name=\"transformers\"></a>\n",
    "#### Split Data and Build Transformer\n",
    "\n",
    "\n",
    "The data needs to be split into training, validation and test sets. You will be using 80% of the data for training, and the remaining 20% for testing. At this point, you will also be removing records with missing values for the target variable. \n",
    "\n",
    "You build the models on the training set, carry out hyperparameter tuning on the test set and finally apply the selected final model. Sci-kit learn's transformers will be leveraged to process and prepare the data.\n"
   ]
  },
  {
   "cell_type": "code",
   "execution_count": 16,
   "metadata": {
    "id": "0ce00547f1dc454e89487edc3fefb7d7"
   },
   "outputs": [],
   "source": [
    "X = df_prep.dropna(axis=0, subset=[target_col]).drop([target_col], axis=1)\n",
    "y = df_prep.dropna(axis=0, subset=[target_col])[target_col]\n",
    "X_train, X_test, y_train, y_test = train_test_split(X, y, test_size=0.20, random_state=123)"
   ]
  },
  {
   "cell_type": "markdown",
   "metadata": {},
   "source": [
    "\n",
    "For categorical variables,a 2 step pipeline is created. The `SimpleImputer` transformer will fill in missing values with 'Other', while the `OneHotEncoder` transformer will create dummy variables for each category. The transformers are applied to the features specified in the `categorical_cols` variable.\n",
    "\n",
    "For `numerical_cols`variables the pipeline has a single step in our example. You again leverage the `SimpleImputer` transformer to fill in missing values.\n",
    "\n"
   ]
  },
  {
   "cell_type": "code",
   "execution_count": 17,
   "metadata": {
    "id": "0a57e5c4603d4472882f2ff9ba1ce08c"
   },
   "outputs": [],
   "source": [
    "categorical_transformer = Pipeline(steps=[('impute_missing', SimpleImputer(strategy='constant', fill_value='Other')), ('dummy_vars', OneHotEncoder(handle_unknown='ignore'))])\n",
    "# fill in missing data - you use median to keep the 1, 0  'flag' like variables either 1 or 0\n",
    "numeric_transformer = Pipeline(steps=[('impute_missing', SimpleImputer(strategy='median'))])"
   ]
  },
  {
   "cell_type": "code",
   "execution_count": 18,
   "metadata": {
    "id": "ba12fa10bc40406b91468f67b842ecac"
   },
   "outputs": [],
   "source": [
    "preprocessor = ColumnTransformer(\n",
    "    transformers=[\n",
    "        ('num', numeric_transformer, numerical_cols),\n",
    "        ('cat', categorical_transformer, categorical_cols)\n",
    "            ])"
   ]
  },
  {
   "cell_type": "markdown",
   "metadata": {},
   "source": [
    "Once the transformers are combined, you perform a fit using the training data and transform the training, validation and test data. The transformer is saved out as a joblib object. It can be imported and used again when preparing new data for scoring. The feature names of the combined transformers are retrieved and stored in a list `numerical_cols`. This list is used for labelling the feature importance of the final model."
   ]
  },
  {
   "cell_type": "code",
   "execution_count": 19,
   "metadata": {
    "id": "057fae0393bc49eb9fe6f167877574b6"
   },
   "outputs": [],
   "source": [
    "fitted_preprocessor = preprocessor.fit(X_train)\n",
    "\n",
    "X_train_postprocess = fitted_preprocessor.transform(X_train)\n",
    "\n",
    "X_test_postprocess = preprocessor.transform(X_test)"
   ]
  },
  {
   "cell_type": "code",
   "execution_count": 20,
   "metadata": {
    "id": "50d8fb4d968d42cb92ba4f384d7a5fe9"
   },
   "outputs": [],
   "source": [
    "onehot_columns=list(fitted_preprocessor.named_transformers_['cat'].named_steps['dummy_vars'].get_feature_names_out(input_features=categorical_cols))\n",
    "numeric_features_list = list(numerical_cols)\n",
    "numeric_features_list.extend(onehot_columns)"
   ]
  },
  {
   "cell_type": "markdown",
   "metadata": {
    "id": "aa65af62aec544238b046bd851e61985"
   },
   "source": [
    "### Building Machine Learning Models <a name=\"ml\"></a>\n",
    "\n",
    "#### Model Hyperparameter Tuning and Model Selection\n",
    "\n",
    "A Random Forest Model will be used for this tutorial, and that will require some hyperparameter tuning. The hyperparameter selection which performs best on the imbalanced validation data is selected as final. To determine this, you will be using ROC AUC as the evaluation metric."
   ]
  },
  {
   "cell_type": "code",
   "execution_count": 21,
   "metadata": {
    "id": "94d1745066f841d98c2c1c8273e73a6a"
   },
   "outputs": [
    {
     "name": "stdout",
     "output_type": "stream",
     "text": [
      "2022/07/15 05:23:44 INFO : logging results to factsheet for run_id 596afa1469284f9aab2a7bfe1aa27892\n",
      "2022/07/15 05:23:44 INFO : Successfully logged results to Factsheet service for run_id 596afa1469284f9aab2a7bfe1aa27892 under asset_id: 968fb875-d985-4359-b25d-7fdcf766a7f8 and project_id : da16da04-d6ab-4b6b-9978-7e6264b906c0\n",
      "Training AUC : 0.954, Test AUC :0.898 from 10 estimators, 5 max depth and 0.75 max features***\n",
      "2022/07/15 05:23:45 INFO : logging results to factsheet for run_id 920d40e83ebe4749a385d133a014b7a4\n",
      "2022/07/15 05:23:46 INFO : Successfully logged results to Factsheet service for run_id 920d40e83ebe4749a385d133a014b7a4 under asset_id: 968fb875-d985-4359-b25d-7fdcf766a7f8 and project_id : da16da04-d6ab-4b6b-9978-7e6264b906c0\n",
      "Training AUC : 0.953, Test AUC :0.903 from 10 estimators, 5 max depth and 0.9 max features***\n",
      "2022/07/15 05:23:46 INFO : logging results to factsheet for run_id 7afb803feeeb46bf9d123c8573bd82b6\n",
      "2022/07/15 05:23:47 INFO : Successfully logged results to Factsheet service for run_id 7afb803feeeb46bf9d123c8573bd82b6 under asset_id: 968fb875-d985-4359-b25d-7fdcf766a7f8 and project_id : da16da04-d6ab-4b6b-9978-7e6264b906c0\n",
      "Training AUC : 0.99, Test AUC :0.92 from 10 estimators, 7 max depth and 0.75 max features***\n",
      "2022/07/15 05:23:47 INFO : logging results to factsheet for run_id d255f13f8ffd44249b938ded2de0dd64\n",
      "2022/07/15 05:23:48 INFO : Successfully logged results to Factsheet service for run_id d255f13f8ffd44249b938ded2de0dd64 under asset_id: 968fb875-d985-4359-b25d-7fdcf766a7f8 and project_id : da16da04-d6ab-4b6b-9978-7e6264b906c0\n",
      "Training AUC : 0.992, Test AUC :0.919 from 10 estimators, 7 max depth and 0.9 max features\n",
      "2022/07/15 05:23:48 INFO : logging results to factsheet for run_id 9538ff07ae7940219caf09cc706c870f\n",
      "2022/07/15 05:23:49 INFO : Successfully logged results to Factsheet service for run_id 9538ff07ae7940219caf09cc706c870f under asset_id: 968fb875-d985-4359-b25d-7fdcf766a7f8 and project_id : da16da04-d6ab-4b6b-9978-7e6264b906c0\n",
      "Training AUC : 0.998, Test AUC :0.917 from 10 estimators, 10 max depth and 0.75 max features\n",
      "2022/07/15 05:23:49 INFO : logging results to factsheet for run_id f56949ab8faf437387829ac736d5c0fb\n",
      "2022/07/15 05:23:50 INFO : Successfully logged results to Factsheet service for run_id f56949ab8faf437387829ac736d5c0fb under asset_id: 968fb875-d985-4359-b25d-7fdcf766a7f8 and project_id : da16da04-d6ab-4b6b-9978-7e6264b906c0\n",
      "Training AUC : 0.998, Test AUC :0.923 from 10 estimators, 10 max depth and 0.9 max features***\n",
      "2022/07/15 05:23:50 INFO : logging results to factsheet for run_id 04dbe6e112824183842338d9ccd4a2fb\n",
      "2022/07/15 05:23:51 INFO : Successfully logged results to Factsheet service for run_id 04dbe6e112824183842338d9ccd4a2fb under asset_id: 968fb875-d985-4359-b25d-7fdcf766a7f8 and project_id : da16da04-d6ab-4b6b-9978-7e6264b906c0\n",
      "Training AUC : 0.964, Test AUC :0.904 from 50 estimators, 5 max depth and 0.75 max features\n",
      "2022/07/15 05:23:52 INFO : logging results to factsheet for run_id 803b3a6503144f52934ada9fe8c60c79\n",
      "2022/07/15 05:23:52 INFO : Successfully logged results to Factsheet service for run_id 803b3a6503144f52934ada9fe8c60c79 under asset_id: 968fb875-d985-4359-b25d-7fdcf766a7f8 and project_id : da16da04-d6ab-4b6b-9978-7e6264b906c0\n",
      "Training AUC : 0.964, Test AUC :0.91 from 50 estimators, 5 max depth and 0.9 max features\n",
      "2022/07/15 05:23:53 INFO : logging results to factsheet for run_id 144b248a352243b69aaf5c7d1a33a525\n",
      "2022/07/15 05:23:54 INFO : Successfully logged results to Factsheet service for run_id 144b248a352243b69aaf5c7d1a33a525 under asset_id: 968fb875-d985-4359-b25d-7fdcf766a7f8 and project_id : da16da04-d6ab-4b6b-9978-7e6264b906c0\n",
      "Training AUC : 0.993, Test AUC :0.924 from 50 estimators, 7 max depth and 0.75 max features***\n",
      "2022/07/15 05:23:55 INFO : logging results to factsheet for run_id 31cc4bb3dce84dde8d58a89c5f58d3b3\n",
      "2022/07/15 05:23:55 INFO : Successfully logged results to Factsheet service for run_id 31cc4bb3dce84dde8d58a89c5f58d3b3 under asset_id: 968fb875-d985-4359-b25d-7fdcf766a7f8 and project_id : da16da04-d6ab-4b6b-9978-7e6264b906c0\n",
      "Training AUC : 0.993, Test AUC :0.934 from 50 estimators, 7 max depth and 0.9 max features***\n",
      "2022/07/15 05:23:56 INFO : logging results to factsheet for run_id 7a003e8db7734b608d70f7ed5d67d14b\n",
      "2022/07/15 05:23:57 INFO : Successfully logged results to Factsheet service for run_id 7a003e8db7734b608d70f7ed5d67d14b under asset_id: 968fb875-d985-4359-b25d-7fdcf766a7f8 and project_id : da16da04-d6ab-4b6b-9978-7e6264b906c0\n",
      "Training AUC : 0.999, Test AUC :0.932 from 50 estimators, 10 max depth and 0.75 max features\n",
      "2022/07/15 05:23:57 INFO : logging results to factsheet for run_id de6b04c7510f44bb8b41567a34239079\n",
      "2022/07/15 05:23:58 INFO : Successfully logged results to Factsheet service for run_id de6b04c7510f44bb8b41567a34239079 under asset_id: 968fb875-d985-4359-b25d-7fdcf766a7f8 and project_id : da16da04-d6ab-4b6b-9978-7e6264b906c0\n",
      "Training AUC : 0.999, Test AUC :0.932 from 50 estimators, 10 max depth and 0.9 max features\n"
     ]
    }
   ],
   "source": [
    "l_ne = [10, 50]\n",
    "l_md = [5,7, 10] \n",
    "l_mf = [0.75, 0.9]\n",
    "\n",
    "highest_test_auc = 0.0\n",
    "top_ne = 0\n",
    "top_md = 0\n",
    "top_mf = 0.0\n",
    "\n",
    "for ne in l_ne:\n",
    "    for md in l_md:\n",
    "        for mf in l_mf:\n",
    "            clf = RandomForestClassifier(n_estimators=ne, max_depth=md, max_features=mf, random_state=0)\n",
    "            clf.fit(X_train_postprocess, y_train)\n",
    "            \n",
    "            y_pred_train = clf.predict_proba(X_train_postprocess)[:,1]\n",
    "            y_pred_test = clf.predict_proba(X_test_postprocess)[:,1]\n",
    "            \n",
    "            fpr_test, tpr_test, thresholds_test = metrics.roc_curve(y_test, y_pred_test)\n",
    "            fpr_train, tpr_train, thresholds_train = metrics.roc_curve(y_train, y_pred_train)\n",
    "\n",
    "            auc_test = metrics.auc(fpr_test, tpr_test)\n",
    "            auc_train = metrics.auc(fpr_train, tpr_train)\n",
    "            \n",
    "            if auc_test > highest_test_auc:\n",
    "                print('Training AUC : ' + str(np.round(auc_train, 3)) + ', Test AUC :' + str(np.round(auc_test, 3)) + ' from ' + str(ne) + ' estimators, ' + str(md) + ' max depth and ' + str(mf) + ' max features***')\n",
    "                top_ne = ne\n",
    "                top_md = md\n",
    "                top_mf = mf\n",
    "                highest_test_auc = auc_test\n",
    "            else:\n",
    "                print('Training AUC : ' + str(np.round(auc_train, 3)) + ', Test AUC :' + str(np.round(auc_test, 3)) + ' from ' + str(ne) + ' estimators, ' + str(md) + ' max depth and ' + str(mf) + ' max features')\n",
    "                "
   ]
  },
  {
   "cell_type": "markdown",
   "metadata": {
    "id": "f87e62b131094d13a4af64d2ab21e3f8"
   },
   "source": [
    "### Build Final Model \n",
    "\n",
    "After finding the best performing hyperparameter combination, you apply them to our final model. The model is built using training data and then evaluated using validation data. The final model and results are logged into the factsheet experiment."
   ]
  },
  {
   "cell_type": "code",
   "execution_count": 22,
   "metadata": {
    "id": "c9ccc9b5d67b4bbc936d89415c23edd8"
   },
   "outputs": [
    {
     "name": "stdout",
     "output_type": "stream",
     "text": [
      "2022/07/15 05:23:59 INFO : logging results to factsheet for run_id 80778dc030924af29df72211a5d26299\n",
      "2022/07/15 05:23:59 INFO : Successfully logged results to Factsheet service for run_id 80778dc030924af29df72211a5d26299 under asset_id: 968fb875-d985-4359-b25d-7fdcf766a7f8 and project_id : da16da04-d6ab-4b6b-9978-7e6264b906c0\n",
      "Training AUC : 0.993 and Test AUC :0.934 from 50 estimators, 7 max depth and 0.9 max features\n"
     ]
    }
   ],
   "source": [
    "model_pipeline = Pipeline(steps=[('preprocessor', preprocessor),\n",
    "                      ('model', RandomForestClassifier(n_estimators=top_ne, max_depth=top_md, max_features=top_mf, random_state=0))])\n",
    "\n",
    "clf=model_pipeline.fit(X_train, y_train)\n",
    "y_pred_train=model_pipeline.predict(X_train)\n",
    "y_pred_test=model_pipeline.predict(X_test)\n",
    "\n",
    "y_pred_train = model_pipeline.predict_proba(X_train)[:,1]\n",
    "#y_pred_validation = model_pipeline.predict_proba(X_validation)[:,1]\n",
    "y_pred_test = model_pipeline.predict_proba(X_test)[:,1]\n",
    "\n",
    "\n",
    "\n",
    "fpr_train, tpr_train, thresholds_train = metrics.roc_curve(y_train, y_pred_train)\n",
    "#fpr_validation, tpr_validation, thresholds_validation = metrics.roc_curve(y_validation, y_pred_validation)\n",
    "fpr_test, tpr_test, thresholds_test = metrics.roc_curve(y_test, y_pred_test)\n",
    "\n",
    "auc_train = metrics.auc(fpr_train, tpr_train)\n",
    "#auc_validation = metrics.auc(fpr_validation, tpr_validation)\n",
    "auc_test = metrics.auc(fpr_test, tpr_test)\n",
    "\n",
    "print('Training AUC : ' + str(np.round(auc_train, 3)) +  ' and Test AUC :' + str(np.round(auc_test, 3)) + ' from ' + str(top_ne) + ' estimators, ' + str(top_md) + ' max depth and ' + str(top_mf) + ' max features')\n",
    "\n"
   ]
  },
  {
   "cell_type": "markdown",
   "metadata": {
    "id": "392f32c20afd447f81778ef1be8f944b"
   },
   "source": [
    "### View Model Results <a name=\"results\"></a>\n",
    "\n",
    "First you'll look at the plot of the ROC curve since you used area under the ROC curve (AUC) as the model evaluation metric. The ROC curve is a plot of the true positive rate `(Sensitivity)` and false positive rate `(Specificity)`. Each point on the ROC curve represents a sensitivity/specificity pair corresponding to a particular decision threshold."
   ]
  },
  {
   "cell_type": "code",
   "execution_count": 23,
   "metadata": {
    "id": "25fb1b1c820a4665a1b500f0ae30f7ce"
   },
   "outputs": [
    {
     "data": {
      "image/png": "[encoded data removed]",
      "text/plain": [
       "<Figure size 720x360 with 1 Axes>"
      ]
     },
     "metadata": {},
     "output_type": "display_data"
    }
   ],
   "source": [
    "fig = plt.figure(figsize=(10,5))\n",
    "plt.plot([0, 1], [0, 1], label='random')\n",
    "\n",
    "#plt.plot(fpr_validation, tpr_validation, label= 'Validation AUC=' + str(np.round(auc_test, 2)) + ')')\n",
    "plt.plot(fpr_test, tpr_test, label= 'Test AUC=' + str(np.round(auc_test, 2)) + ')')\n",
    "\n",
    "plt.xlabel('False positive rate')\n",
    "plt.ylabel('True positive rate')\n",
    "plt.title('ROC curve')\n",
    "plt.legend(loc='best')\n",
    "\n",
    "plt.show()"
   ]
  },
  {
   "cell_type": "code",
   "execution_count": 24,
   "metadata": {
    "id": "0ea89856a4494c55ba7caf8f976c92ff"
   },
   "outputs": [
    {
     "name": "stdout",
     "output_type": "stream",
     "text": [
      "0.4982698695027778\n"
     ]
    }
   ],
   "source": [
    "# get the optimal threshold based on Youden's index\n",
    "idx_opt_thres = np.argmax(tpr_test - fpr_test)\n",
    "opt_threshold = thresholds_test[idx_opt_thres]\n",
    "print(opt_threshold)\n",
    "y_pred_class_test = y_pred_test >= opt_threshold\n",
    "y_pred_class_test = y_pred_class_test.astype(int)\n",
    "#y_pred_class_test = y_pred_test >= opt_threshold\n",
    "#y_pred_class_test = y_pred_test.astype(int)"
   ]
  },
  {
   "cell_type": "markdown",
   "metadata": {
    "id": "73ce60bee3364ab786d193c7d196cc5a"
   },
   "source": [
    "You'll next look at the confusion matrices for the validation and test results at the threshold selected above. At this threshold the classifier does a good job at correctly predicting those who readmit or not. However, it also misclassifies quite a few customers as who are approved of loan as not approved (False Positives). This result may not be sufficient to the Bank. Based on this, the analyst may want to change the threshold by reducing the false positive rate (as commented out above). Doing this does result in a trade off and the number of true positives (individuals that will truly default on their loans) would reduce. "
   ]
  },
  {
   "cell_type": "code",
   "execution_count": 25,
   "metadata": {
    "id": "786a157c675f439580ff00c7c1ad15fa"
   },
   "outputs": [
    {
     "data": {
      "image/png": "[encoded data removed]",
      "text/plain": [
       "<Figure size 1728x360 with 2 Axes>"
      ]
     },
     "metadata": {},
     "output_type": "display_data"
    }
   ],
   "source": [
    "confusion_matrix_validation = metrics.confusion_matrix(y_test, y_pred_class_test, labels=[0,1])\n",
    "confusion_matrix_test = metrics.confusion_matrix(y_test, y_pred_class_test, labels=[0,1])\n",
    "\n",
    "fig, (ax1, ax2) = plt.subplots(1, 2, figsize=(24, 5))\n",
    "\n",
    "ax1.imshow(confusion_matrix_validation, interpolation='nearest', cmap=plt.cm.Blues)\n",
    "ax1.set_title('Confusion Matrix - Test Data')\n",
    "tick_marks = np.arange(2)\n",
    "ax1.set_xticks(tick_marks)\n",
    "ax1.set_yticks(tick_marks)\n",
    "ax1.set_ylabel('Actual Label')\n",
    "ax1.set_xlabel('Predicted Label')\n",
    "# iterate through the confusion matrix array with indexing, use this to plot counts on the chart\n",
    "cm_iterator = np.nditer(confusion_matrix_validation, flags=['multi_index'])\n",
    "while not cm_iterator.finished:\n",
    "    num_occurances = cm_iterator[0]\n",
    "    y = cm_iterator.multi_index[0]\n",
    "    x = cm_iterator.multi_index[1]\n",
    "    ax1.text(x, y, num_occurances, color=\"white\" if confusion_matrix_validation[x, y] > confusion_matrix_validation.max()/2 else \"black\", ha='center', va='center')\n",
    "    cm_iterator.iternext()\n",
    "\n",
    "ax2.imshow(confusion_matrix_test, interpolation='nearest', cmap=plt.cm.Blues)\n",
    "ax2.set_title('Confusion Matrix - Test Data')\n",
    "ax2.set_xticks(tick_marks)\n",
    "ax2.set_yticks(tick_marks)\n",
    "ax2.set_ylabel('Actual Label')\n",
    "ax2.set_xlabel('Predicted Label')\n",
    "# iterate through the confusion matrix array with indexing, use this to plot counts on the chart\n",
    "cm_iterator = np.nditer(confusion_matrix_test, flags=['multi_index'])\n",
    "while not cm_iterator.finished:\n",
    "    num_occurances = cm_iterator[0]\n",
    "    y = cm_iterator.multi_index[0]\n",
    "    x = cm_iterator.multi_index[1]\n",
    "    ax2.text(x, y, num_occurances, color=\"white\" if confusion_matrix_test[x, y] > confusion_matrix_test.max()/2 else \"black\", ha='center', va='center')\n",
    "    cm_iterator.iternext()"
   ]
  },
  {
   "cell_type": "markdown",
   "metadata": {
    "id": "78ab6214f0bc4d4d8f29a866686ebf11"
   },
   "source": [
    "### Save the Model <a name=\"save\"></a>\n",
    "\n",
    "You select the top performing model pipeline. In the next steps, you save the model pipeline along with metadata information in the project using [ibm-watson-machine-learning](http://ibm-wml-api-pyclient.mybluemix.net) client.\n",
    "\n",
    "\n"
   ]
  },
  {
   "cell_type": "markdown",
   "metadata": {
    "id": "68d9a00304194b00ac787ff258170d51"
   },
   "source": [
    "#### User Inputs\n",
    "\n",
    "The user can specify the name for the model below.  <br>\n"
   ]
  },
  {
   "cell_type": "code",
   "execution_count": 26,
   "metadata": {
    "id": "57c3b8539d06447287e1da4580f708c1"
   },
   "outputs": [],
   "source": [
    "\n",
    "model_name = 'Mortgage Approval Prediction Model'\n"
   ]
  },
  {
   "cell_type": "markdown",
   "metadata": {},
   "source": [
    "This cell imports `ibm_watson_machine_learning` library and then creates a wml client using the credentials provided."
   ]
  },
  {
   "cell_type": "code",
   "execution_count": 27,
   "metadata": {
    "id": "d1c27def9f1f4d0d8a1a1f42021c4988"
   },
   "outputs": [],
   "source": [
    "from ibm_watson_machine_learning import APIClient\n",
    "\n",
    "location = os.environ['RUNTIME_ENV_REGION'] \n",
    "wml_credentials = {\n",
    "    \"apikey\": ibmcloud_api_key,\n",
    "    \"url\": 'https://' + location + '.ml.cloud.ibm.com'\n",
    "}\n",
    "client = APIClient(wml_credentials)"
   ]
  },
  {
   "cell_type": "markdown",
   "metadata": {},
   "source": [
    "Set the current project as the default project to save the model."
   ]
  },
  {
   "cell_type": "code",
   "execution_count": 28,
   "metadata": {},
   "outputs": [
    {
     "data": {
      "text/plain": [
       "'SUCCESS'"
      ]
     },
     "execution_count": 28,
     "metadata": {},
     "output_type": "execute_result"
    }
   ],
   "source": [
    "client.set.default_project(PROJECT_UID)"
   ]
  },
  {
   "cell_type": "markdown",
   "metadata": {
    "id": "fd379c75c7544faa821d07a49a751d72"
   },
   "source": [
    "#### Storing Pipeline Details\n",
    "\n",
    "Storing the model requires us to curate and specify some properties:</br>\n",
    "• The name for the pipeline as specified above </br>\n",
    "• Training data reference, that points to the data used to train the model.</br>\n",
    "• The Software Specification, that refers to the runtime used in this Notebook and the WML deployment. You use the software specification `default_py3.8` to store the models.</br>"
   ]
  },
  {
   "cell_type": "code",
   "execution_count": 29,
   "metadata": {
    "id": "696849204255478d8533eca704fa9239"
   },
   "outputs": [],
   "source": [
    "fields=X_train.columns.tolist()\n",
    "metadata_dict = {'target_col' : target_col, 'probability_threshold' : opt_threshold, 'numeric_features_list':numeric_features_list,'fields':fields,'categorical_cols':categorical_cols}\n"
   ]
  },
  {
   "cell_type": "code",
   "execution_count": 30,
   "metadata": {},
   "outputs": [],
   "source": [
    "connection_details = client.connections.get_details()\n",
    "conn_detail = connection_details['resources'][0]\n",
    "connection_id = client.connections.get_uid(conn_detail)\n",
    "\n",
    "training_data_references = [\n",
    "                {\n",
    "                    \"id\": \"Mortgage_data\",\n",
    "                    \"type\": \"connection_asset\",\n",
    "                    \"connection\": {\n",
    "                        \"id\": connection_id,\n",
    "                    },\n",
    "                    \"location\": {\n",
    "                        \"select_statement\": sql_query,\n",
    "                        \"table_name\": \"Mortgage_Approval_view\"\n",
    "                    }\n",
    "                }]\n"
   ]
  },
  {
   "cell_type": "code",
   "execution_count": 31,
   "metadata": {},
   "outputs": [
    {
     "name": "stdout",
     "output_type": "stream",
     "text": [
      "Software Specification ID: 12b83a17-24d8-5082-900f-0ab31fbfd3cb\n"
     ]
    },
    {
     "data": {
      "text/plain": [
       "{'name': 'Mortgage Approval Prediction Model',\n",
       " 'type': 'scikit-learn_1.0',\n",
       " 'software_spec': '12b83a17-24d8-5082-900f-0ab31fbfd3cb',\n",
       " 'label_column': 'MORTGAGE_APPROVAL',\n",
       " 'inputDataSchema': [{'id': '1',\n",
       "   'type': 'struct',\n",
       "   'fields': [{'name': 'INCOME', 'type': 'float64'},\n",
       "    {'name': 'YRS_AT_CURRENT_ADDRESS', 'type': 'int64'},\n",
       "    {'name': 'YRS_WITH_CURRENT_EMPLOYER', 'type': 'int64'},\n",
       "    {'name': 'NUMBER_OF_CARDS', 'type': 'int64'},\n",
       "    {'name': 'CREDITCARD_DEBT', 'type': 'float64'},\n",
       "    {'name': 'LOAN_AMOUNT', 'type': 'float64'},\n",
       "    {'name': 'CREDIT_SCORE', 'type': 'int64'},\n",
       "    {'name': 'PROPERTY_VALUE', 'type': 'float64'},\n",
       "    {'name': 'AREA_AVG_PRICE', 'type': 'float64'},\n",
       "    {'name': 'LOANS', 'type': 'int64'},\n",
       "    {'name': 'GENDER', 'type': 'object'},\n",
       "    {'name': 'EDUCATION', 'type': 'object'},\n",
       "    {'name': 'EMPLOYMENT_STATUS', 'type': 'object'},\n",
       "    {'name': 'MARITAL_STATUS', 'type': 'object'},\n",
       "    {'name': 'APPLIEDONLINE', 'type': 'object'},\n",
       "    {'name': 'RESIDENCE', 'type': 'object'},\n",
       "    {'name': 'COMMERCIAL_CLIENT', 'type': 'object'},\n",
       "    {'name': 'COMM_FRAUD_INV', 'type': 'object'}]}],\n",
       " 'tags': ['mortgage_prediction_pipeline_tag'],\n",
       " 'training_data_references': [{'id': 'Mortgage_data',\n",
       "   'type': 'connection_asset',\n",
       "   'connection': {'id': 'ffd368fc-18c2-49ee-8dc9-94561674f2ed'},\n",
       "   'location': {'select_statement': 'select * from AI_MORTGAGE.MORTGAGE_APPROVAL_VIEW',\n",
       "    'table_name': 'Mortgage_Approval_view'}}],\n",
       " 'custom': {'experiment_id': 'a044b0847e62488b9c2ee199e3b0551e',\n",
       "  'experiment_name': 'mortgage_approval_prediction'}}"
      ]
     },
     "execution_count": 31,
     "metadata": {},
     "output_type": "execute_result"
    }
   ],
   "source": [
    "software_spec_uid = client.software_specifications.get_id_by_name(\"runtime-22.1-py3.9\")\n",
    "print(\"Software Specification ID: {}\".format(software_spec_uid))\n",
    "\n",
    "model_props = {\n",
    "        client._models.ConfigurationMetaNames.NAME:model_name,\n",
    "        client._models.ConfigurationMetaNames.TYPE: \"scikit-learn_1.0\",\n",
    "        client._models.ConfigurationMetaNames.SOFTWARE_SPEC_UID: software_spec_uid,\n",
    "        client._models.ConfigurationMetaNames.LABEL_FIELD:\"MORTGAGE_APPROVAL\",\n",
    "        client._models.ConfigurationMetaNames.INPUT_DATA_SCHEMA:[{'id': '1', 'type': 'struct', 'fields': [{\"name\":column_name,\"type\":str(column_type[0])} for column_name,column_type in pd.DataFrame(X_train.dtypes).T.to_dict('list').items()]}],\n",
    "        client._models.ConfigurationMetaNames.TAGS: ['mortgage_prediction_pipeline_tag'],\n",
    "        client.repository.ModelMetaNames.TRAINING_DATA_REFERENCES: training_data_references,\n",
    "        client._models.ConfigurationMetaNames.CUSTOM: metadata_dict\n",
    "    }\n",
    "\n",
    "facts_client.export_facts.prepare_model_meta(wml_client=client,meta_props=model_props)\n"
   ]
  },
  {
   "cell_type": "markdown",
   "metadata": {},
   "source": [
    "The cell below exports all the facts captured by the AI Factsheets client, in addition some Notebook metadata "
   ]
  },
  {
   "cell_type": "code",
   "execution_count": 32,
   "metadata": {},
   "outputs": [
    {
     "name": "stdout",
     "output_type": "stream",
     "text": [
      "2022/07/15 05:24:04 INFO : Initiating logging to factsheet for run_id......80778dc030924af29df72211a5d26299\n",
      "2022/07/15 05:24:04 INFO : Successfully logged results to Factsheet service for run_id 80778dc030924af29df72211a5d26299 under asset_id: 968fb875-d985-4359-b25d-7fdcf766a7f8 and project_id : da16da04-d6ab-4b6b-9978-7e6264b906c0\n"
     ]
    }
   ],
   "source": [
    "#Defining Notebook URL\n",
    "nb_name = \"1-model-training-with-factsheet\"\n",
    "nb_asset_id = \"tbd\"\n",
    "nb_asset_url = \"https://\" + CPD_URL + \"/analytics/notebooks/v2/\" + nb_asset_id + \"?projectid=\" + PROJECT_UID + \"&context=cpdaas\"\n",
    "\n",
    "latestRunId = facts_client.runs.list_runs_by_experiment('1').sort_values('start_time').iloc[-1]['run_id']\n",
    "facts_client.runs.set_tags(latestRunId, {\"Notebook name\": nb_name, \"Notebook id\": nb_asset_id, \"Notebook URL\" : nb_asset_url})\n",
    "facts_client.export_facts.export_payload(latestRunId)"
   ]
  },
  {
   "cell_type": "code",
   "execution_count": 33,
   "metadata": {},
   "outputs": [
    {
     "name": "stdout",
     "output_type": "stream",
     "text": [
      "2022/07/15 05:24:05 INFO : Initiating logging to factsheet for run_id......80778dc030924af29df72211a5d26299\n",
      "2022/07/15 05:24:05 INFO : Successfully logged results to Factsheet service for run_id 80778dc030924af29df72211a5d26299 under asset_id: 968fb875-d985-4359-b25d-7fdcf766a7f8 and project_id : da16da04-d6ab-4b6b-9978-7e6264b906c0\n"
     ]
    }
   ],
   "source": [
    "RUN_ID=facts_client.runs.get_current_run_id()\n",
    "facts_client.export_facts.export_payload(RUN_ID)"
   ]
  },
  {
   "cell_type": "code",
   "execution_count": 34,
   "metadata": {},
   "outputs": [
    {
     "name": "stdout",
     "output_type": "stream",
     "text": [
      "Storing model .....\n",
      "The model Mortgage Approval Prediction Model successfully stored in the project\n",
      "Model ID: c1720243-a6f9-4d5a-b62e-8435af163d5f\n"
     ]
    }
   ],
   "source": [
    "print(\"Storing model .....\")\n",
    "\n",
    "published_model_details = client.repository.store_model(model=model_pipeline, meta_props=model_props, \n",
    "                                                        training_data=df_prep.drop([\"MORTGAGE_APPROVAL\"], axis=1), training_target=df_prep.MORTGAGE_APPROVAL)\n",
    "model_uid = client.repository.get_model_id(published_model_details)\n",
    "print(\"The model\",model_name,\"successfully stored in the project\")\n",
    "print(\"Model ID: {}\".format(model_uid))\n",
    "\n"
   ]
  },
  {
   "cell_type": "markdown",
   "metadata": {},
   "source": [
    "The model is successfully saved in the project. Navigate to the project assets, click on the model to view the model factsheet."
   ]
  },
  {
   "cell_type": "markdown",
   "metadata": {},
   "source": [
    "**Sample Materials, provided under license. <br>\n",
    "Licensed Materials - Property of IBM. <br>\n",
    "© Copyright IBM Corp. 2022. All Rights Reserved. <br>\n",
    "US Government Users Restricted Rights - Use, duplication or disclosure restricted by GSA ADP Schedule Contract with IBM Corp. <br>**"
   ]
  }
 ],
 "metadata": {
  "kernelspec": {
   "display_name": "Python 3.9",
   "language": "python",
   "name": "python3"
  },
  "language_info": {
   "codemirror_mode": {
    "name": "ipython",
    "version": 3
   },
   "file_extension": ".py",
   "mimetype": "text/x-python",
   "name": "python",
   "nbconvert_exporter": "python",
   "pygments_lexer": "ipython3",
   "version": "3.9.12"
  }
 },
 "nbformat": 4,
 "nbformat_minor": 1
}
